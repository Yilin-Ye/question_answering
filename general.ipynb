{
 "cells": [
  {
   "cell_type": "code",
   "execution_count": null,
   "id": "1f8a6f8d",
   "metadata": {},
   "outputs": [],
   "source": [
    "import pandas as pd\n",
    "import numpy as np\n",
    "import matplotlib.pyplot as plt\n",
    "import seaborn as sns\n",
    "import datetime"
   ]
  },
  {
   "cell_type": "code",
   "execution_count": null,
   "id": "5d666ba0",
   "metadata": {},
   "outputs": [],
   "source": [
    "## import the raw dataset\n",
    "df = pd.read_csv('TAPAS_flwsht_data.csv')\n",
    "df"
   ]
  },
  {
   "cell_type": "code",
   "execution_count": null,
   "id": "14fdc6c0",
   "metadata": {},
   "outputs": [],
   "source": [
    "df['disp_name'].value_counts()"
   ]
  },
  {
   "cell_type": "code",
   "execution_count": null,
   "id": "bd3ef135",
   "metadata": {},
   "outputs": [],
   "source": [
    "df[['patient_id', 'encounter_id']].groupby('patient_id').nunique().sort_values(by='encounter_id', ascending=False).head(10)"
   ]
  },
  {
   "cell_type": "code",
   "execution_count": null,
   "id": "9768f149",
   "metadata": {},
   "outputs": [],
   "source": [
    "## change datetime type\n",
    "df['recorded_time'] = pd.to_datetime(df['recorded_time'])\n",
    "df.dtypes"
   ]
  },
  {
   "cell_type": "code",
   "execution_count": null,
   "id": "bc155a26",
   "metadata": {},
   "outputs": [],
   "source": [
    "## convert the weight from ounce pound\n",
    "for i in range(df.shape[0]):\n",
    "    if df.iloc[i,3] == 'Weight':\n",
    "        df.iloc[i,4] = float(df.iloc[i,4])*0.0625"
   ]
  },
  {
   "cell_type": "code",
   "execution_count": null,
   "id": "04ad7102",
   "metadata": {},
   "outputs": [],
   "source": [
    "## check patient and their visit information\n",
    "df['encounter_id'].value_counts()\n",
    "df['patient_id'].value_counts()"
   ]
  },
  {
   "cell_type": "code",
   "execution_count": null,
   "id": "031a5e34",
   "metadata": {},
   "outputs": [],
   "source": [
    "## check the mean interval time for each vital signs\n",
    "print(\"BP's mean time interval: \"+str(df[df['disp_name']=='BP']['diff'].dropna().mean()))\n",
    "print(\"SpO2's mean time interval: \"+str(df[df['disp_name']=='SpO2']['diff'].dropna().mean()))\n",
    "print(\"Height's mean time interval: \"+str(df[df['disp_name']=='Height']['diff'].dropna().mean()))\n",
    "print(\"Weight's mean time interval: \"+str(df[df['disp_name']=='Weight']['diff'].dropna().mean()))\n",
    "print(\"Temp's mean time interval: \"+str(df[df['disp_name']=='Temp']['diff'].dropna().mean()))\n",
    "print(\"Pulse's mean time interval: \"+str(df[df['disp_name']=='Pulse']['diff'].dropna().mean()))\n",
    "print(\"Heart Rate's mean time interval: \"+str(df[df['disp_name']=='Heart Rate']['diff'].dropna().mean()))\n",
    "print(\"MAP's mean time interval: \"+str(df[df['disp_name']==\"MAP (mmHg)\"]['diff'].dropna().mean()))\n",
    "print(\"Flow Delivered's mean time interval: \"+str(df[df['disp_name']==\"Flow Delivered (L/min)\"]['diff'].dropna().mean()))"
   ]
  },
  {
   "cell_type": "markdown",
   "id": "05bed735",
   "metadata": {},
   "source": [
    "## Only keep last value within 1 mins"
   ]
  },
  {
   "cell_type": "code",
   "execution_count": null,
   "id": "fa7a32fd",
   "metadata": {},
   "outputs": [],
   "source": [
    "df['diff'] = df.sort_values(['encounter_id', 'disp_name', 'recorded_time']\n",
    "                           ).groupby(['encounter_id','disp_name'])['recorded_time'].diff()\n",
    "df['last_time'] = df.sort_values(['encounter_id', 'disp_name', 'recorded_time']\n",
    "                           ).groupby(['encounter_id','disp_name'])['recorded_time'].shift()"
   ]
  },
  {
   "cell_type": "code",
   "execution_count": null,
   "id": "cb596779",
   "metadata": {},
   "outputs": [],
   "source": [
    "value_to_keep = df[df['diff']<pd.Timedelta(minutes=1)]\n",
    "value_to_keep"
   ]
  },
  {
   "cell_type": "code",
   "execution_count": null,
   "id": "a9747926",
   "metadata": {},
   "outputs": [],
   "source": [
    "filtered = value_to_keep[['encounter_id','last_time','disp_name']]\n",
    "filtered"
   ]
  },
  {
   "cell_type": "code",
   "execution_count": null,
   "id": "c6598d1a",
   "metadata": {},
   "outputs": [],
   "source": [
    "i = 0\n",
    "filtered_df = df.loc[:, ~df.columns.isin(['diff', 'last_time'])]\n",
    "while i < filtered.shape[0]:\n",
    "    filtered_df = filtered_df[(filtered_df['encounter_id']!=filtered.iloc[i,0]) | \n",
    "                              (filtered_df['recorded_time']!=filtered.iloc[i,1]) | \n",
    "                              (filtered_df['disp_name']!=filtered.iloc[i,2])]\n",
    "    i += 1"
   ]
  },
  {
   "cell_type": "markdown",
   "id": "ec6b840d",
   "metadata": {},
   "source": [
    "## Reshape raw dataset from long format into wide sqa format"
   ]
  },
  {
   "cell_type": "code",
   "execution_count": null,
   "id": "9bf28d23",
   "metadata": {},
   "outputs": [],
   "source": [
    "reshaped_df = filtered_df.groupby([\"encounter_id\",\"patient_id\",\"recorded_time\",\"disp_name\"])[\n",
    "    'meas_value'].aggregate(lambda x: x).unstack().reset_index()"
   ]
  },
  {
   "cell_type": "code",
   "execution_count": null,
   "id": "7aa36f4b",
   "metadata": {},
   "outputs": [],
   "source": [
    "reshaped = pd.read_csv('reshaped.csv',index=False)"
   ]
  },
  {
   "cell_type": "markdown",
   "id": "f9502387",
   "metadata": {},
   "source": [
    "## Check mean interval time between measurements for each vital signs"
   ]
  },
  {
   "cell_type": "markdown",
   "id": "1606091c",
   "metadata": {},
   "source": [
    "### Blood Pressure"
   ]
  },
  {
   "cell_type": "code",
   "execution_count": null,
   "id": "3ae563b1",
   "metadata": {},
   "outputs": [],
   "source": [
    "bp = reshaped[['encounter_id', 'recorded_time', 'BP']].dropna()\n",
    "bp['recorded_time'] = pd.to_datetime(bp['recorded_time'])\n",
    "bp['time'] = bp['recorded_time'].dt.time\n",
    "bp['diff'] = bp.groupby('encounter_id')['recorded_time'].diff()"
   ]
  },
  {
   "cell_type": "code",
   "execution_count": null,
   "id": "53805dde",
   "metadata": {},
   "outputs": [],
   "source": [
    "bp_density = bp[['encounter_id', 'diff']].groupby('encounter_id').mean()['diff'].dt.seconds/3600"
   ]
  },
  {
   "cell_type": "code",
   "execution_count": null,
   "id": "e1ab0734",
   "metadata": {},
   "outputs": [],
   "source": [
    "bp_density.reset_index()['diff'].plot(kind='density')"
   ]
  },
  {
   "cell_type": "code",
   "execution_count": null,
   "id": "2478c577",
   "metadata": {},
   "outputs": [],
   "source": [
    "bp['diff'].mean()"
   ]
  },
  {
   "cell_type": "markdown",
   "id": "34e97581",
   "metadata": {},
   "source": [
    "### Heart Rate"
   ]
  },
  {
   "cell_type": "code",
   "execution_count": null,
   "id": "bb216ae3",
   "metadata": {},
   "outputs": [],
   "source": [
    "hr = reshaped[['encounter_id', 'recorded_time', 'Heart Rate']].dropna()\n",
    "hr['recorded_time'] = pd.to_datetime(hr['recorded_time'])\n",
    "hr['time'] = hr['recorded_time'].dt.time\n",
    "hr['diff'] = hr.groupby('encounter_id')['recorded_time'].diff()\n",
    "\n",
    "hr_density = hr[['encounter_id', 'diff']].groupby('encounter_id').mean()['diff'].dt.seconds/3600\n",
    "hr_density.reset_index()['diff'].plot(kind='density')"
   ]
  },
  {
   "cell_type": "code",
   "execution_count": null,
   "id": "7f0d542a",
   "metadata": {},
   "outputs": [],
   "source": [
    "hr['diff'].mean()"
   ]
  },
  {
   "cell_type": "markdown",
   "id": "451732da",
   "metadata": {},
   "source": [
    "### Pulse Rate"
   ]
  },
  {
   "cell_type": "code",
   "execution_count": null,
   "id": "489a2a57",
   "metadata": {},
   "outputs": [],
   "source": [
    "pulse = reshaped[['encounter_id', 'recorded_time', 'Pulse']].dropna()\n",
    "pulse['recorded_time'] = pd.to_datetime(pulse['recorded_time'])\n",
    "pulse['time'] = pulse['recorded_time'].dt.time\n",
    "pulse['diff'] = pulse.groupby('encounter_id')['recorded_time'].diff()\n",
    "pulse_density = pulse[['encounter_id', 'diff']].groupby('encounter_id').mean()['diff'].dt.seconds/3600\n",
    "pulse_density.reset_index()['diff'].plot(kind='density')"
   ]
  },
  {
   "cell_type": "code",
   "execution_count": null,
   "id": "0c44100b",
   "metadata": {},
   "outputs": [],
   "source": [
    "pulse['diff'].mean()"
   ]
  },
  {
   "cell_type": "markdown",
   "id": "06c15d3e",
   "metadata": {},
   "source": [
    "### MAP (mmHg)"
   ]
  },
  {
   "cell_type": "code",
   "execution_count": null,
   "id": "5194f257",
   "metadata": {},
   "outputs": [],
   "source": [
    "maps = reshaped[['encounter_id', 'recorded_time', 'MAP (mmHg)']].dropna()\n",
    "maps['recorded_time'] = pd.to_datetime(maps['recorded_time'])\n",
    "maps['time'] = maps['recorded_time'].dt.time\n",
    "maps['diff'] = maps.groupby('encounter_id')['recorded_time'].diff()\n",
    "map_density = maps[['encounter_id', 'diff']].groupby('encounter_id').mean()['diff'].dt.seconds/3600\n",
    "map_density.reset_index()['diff'].plot(kind='density')"
   ]
  },
  {
   "cell_type": "code",
   "execution_count": null,
   "id": "c6366b84",
   "metadata": {},
   "outputs": [],
   "source": [
    "maps['diff'].mean()"
   ]
  },
  {
   "cell_type": "markdown",
   "id": "4046f226",
   "metadata": {},
   "source": [
    "### Respiration"
   ]
  },
  {
   "cell_type": "code",
   "execution_count": null,
   "id": "768adcd2",
   "metadata": {},
   "outputs": [],
   "source": [
    "resp = reshaped[['encounter_id', 'recorded_time', 'Resp']].dropna()\n",
    "resp['recorded_time'] = pd.to_datetime(resp['recorded_time'])\n",
    "resp['time'] = resp['recorded_time'].dt.time\n",
    "resp['diff'] = resp.groupby('encounter_id')['recorded_time'].diff()\n",
    "resp_density = resp[['encounter_id', 'diff']].groupby('encounter_id').mean()['diff'].dt.seconds/3600\n",
    "resp_density.reset_index()['diff'].plot(kind='density')"
   ]
  },
  {
   "cell_type": "code",
   "execution_count": null,
   "id": "1ac30de5",
   "metadata": {},
   "outputs": [],
   "source": [
    "resp['diff'].mean()"
   ]
  },
  {
   "cell_type": "markdown",
   "id": "9daf4d60",
   "metadata": {},
   "source": [
    "### SpO2"
   ]
  },
  {
   "cell_type": "code",
   "execution_count": null,
   "id": "52d1a740",
   "metadata": {},
   "outputs": [],
   "source": [
    "sp = reshaped[['encounter_id', 'recorded_time', 'SpO2']].dropna()\n",
    "sp['recorded_time'] = pd.to_datetime(sp['recorded_time'])\n",
    "sp['time'] = sp['recorded_time'].dt.time\n",
    "sp['diff'] = sp.groupby('encounter_id')['recorded_time'].diff()\n",
    "sp_density = sp[['encounter_id', 'diff']].groupby('encounter_id').mean()['diff'].dt.seconds/3600\n",
    "sp_density.reset_index()['diff'].plot(kind='density')"
   ]
  },
  {
   "cell_type": "code",
   "execution_count": null,
   "id": "d1a69156",
   "metadata": {},
   "outputs": [],
   "source": [
    "sp['diff'].mean()"
   ]
  },
  {
   "cell_type": "markdown",
   "id": "1dc1b5e3",
   "metadata": {},
   "source": [
    "### Temperature"
   ]
  },
  {
   "cell_type": "code",
   "execution_count": null,
   "id": "007488e3",
   "metadata": {},
   "outputs": [],
   "source": [
    "temp = reshaped[['encounter_id', 'recorded_time', 'Temp']].dropna()\n",
    "temp['recorded_time'] = pd.to_datetime(temp['recorded_time'])\n",
    "temp['time'] = temp['recorded_time'].dt.time\n",
    "temp['diff'] = temp.groupby('encounter_id')['recorded_time'].diff()\n",
    "temp_density = temp[['encounter_id', 'diff']].groupby('encounter_id').mean()['diff'].dt.seconds/3600\n",
    "temp_density.reset_index()['diff'].plot(kind='density')"
   ]
  },
  {
   "cell_type": "code",
   "execution_count": null,
   "id": "00ba187f",
   "metadata": {},
   "outputs": [],
   "source": [
    "temp['diff'].mean()"
   ]
  },
  {
   "cell_type": "markdown",
   "id": "46864414",
   "metadata": {},
   "source": [
    "### Weighted mean time interval\n"
   ]
  },
  {
   "cell_type": "code",
   "execution_count": null,
   "id": "d3f88157",
   "metadata": {},
   "outputs": [],
   "source": [
    "weighted_mean =  (len(bp)*bp['diff'].mean() + len(temp)*temp['diff'].mean() + \n",
    "                  len(sp)*sp['diff'].mean() + len(resp)*resp['diff'].mean() +\n",
    "                  len(maps)*maps['diff'].mean() + len(hr)*hr['diff'].mean() +\n",
    "                  len(pulse)*pulse['diff'].mean())/(len(bp)+len(temp)+len(sp)+len(resp)+len(maps)+len(hr)+len(pulse))\n",
    "weighted_mean\n",
    "## 2 hours"
   ]
  },
  {
   "cell_type": "markdown",
   "id": "8d64812b",
   "metadata": {},
   "source": [
    "### plot all vital signs"
   ]
  },
  {
   "cell_type": "code",
   "execution_count": null,
   "id": "f5053956",
   "metadata": {},
   "outputs": [],
   "source": [
    "temp['temp_diff'] = temp['diff']\n",
    "sp['sp_diff'] = sp['diff']\n",
    "resp['resp_diff'] = resp['diff']\n",
    "maps['map_diff'] = maps['diff']\n",
    "pulse['pulse_diff'] = pulse['diff']\n",
    "hr['hr_diff'] = hr['diff']\n",
    "bp['bp_diff'] = bp['diff']\n",
    "\n",
    "temp_diff = temp[['encounter_id','temp_diff']].groupby('encounter_id').mean().reset_index()\n",
    "sp_diff = sp[['encounter_id','sp_diff']].groupby('encounter_id').mean().reset_index()\n",
    "resp_diff = resp[['encounter_id','resp_diff']].groupby('encounter_id').mean().reset_index()\n",
    "maps_diff = maps[['encounter_id','map_diff']].groupby('encounter_id').mean().reset_index()\n",
    "pulse_diff = pulse[['encounter_id','pulse_diff']].groupby('encounter_id').mean().reset_index()\n",
    "hr_diff = hr[['encounter_id','hr_diff']].groupby('encounter_id').mean().reset_index()\n",
    "bp_diff = bp[['encounter_id','bp_diff']].groupby('encounter_id').mean().reset_index()"
   ]
  },
  {
   "cell_type": "code",
   "execution_count": null,
   "id": "48b87aa8",
   "metadata": {},
   "outputs": [],
   "source": [
    "diff = pd.merge(pd.merge(pd.merge(temp_diff,pulse_diff,on='encounter_id'), \n",
    "                         pd.merge(sp_diff,hr_diff,on='encounter_id'),on='encounter_id'), \n",
    "                pd.merge(pd.merge(resp_diff, bp_diff, on='encounter_id'),maps_diff,on='encounter_id'))"
   ]
  },
  {
   "cell_type": "code",
   "execution_count": null,
   "id": "4871807c",
   "metadata": {},
   "outputs": [],
   "source": [
    "diff = diff.apply(lambda x: x.dt.seconds/3600 if x.name in ['temp_diff', 'pulse_diff', 'sp_diff', 'hr_diff', 'resp_diff',\n",
    "                                                'bp_diff', 'map_diff'] else x)"
   ]
  },
  {
   "cell_type": "code",
   "execution_count": null,
   "id": "7ef79ef5",
   "metadata": {},
   "outputs": [],
   "source": [
    "diff.iloc[:,1:].plot(figsize = (14, 7),kind='density',xticks=[i for i in range(25)])"
   ]
  },
  {
   "cell_type": "markdown",
   "id": "cbea6f9f",
   "metadata": {},
   "source": [
    "## Plot the vital sign time distribution"
   ]
  },
  {
   "cell_type": "code",
   "execution_count": null,
   "id": "ec2e05ca",
   "metadata": {},
   "outputs": [],
   "source": [
    "bp['time_dist'] = bp['time'].apply(lambda x: x.hour+x.minute/100)\n",
    "hr['time_dist'] = hr['time'].apply(lambda x: x.hour+x.minute/100)\n",
    "pulse['time_dist'] = pulse['time'].apply(lambda x: x.hour+x.minute/100)\n",
    "maps['time_dist'] = maps['time'].apply(lambda x: x.hour+x.minute/100)\n",
    "resp['time_dist'] = resp['time'].apply(lambda x: x.hour+x.minute/100)\n",
    "sp['time_dist'] = sp['time'].apply(lambda x: x.hour+x.minute/100)\n",
    "temp['time_dist'] = temp['time'].apply(lambda x: x.hour+x.minute/100)"
   ]
  },
  {
   "cell_type": "code",
   "execution_count": null,
   "id": "7df43ce8",
   "metadata": {},
   "outputs": [],
   "source": [
    "## trying to see if the time interval between each measure is even distributed with time or not. \n",
    "## ex: maybe only measure the value at daytime. \n",
    "\n",
    "emp['time_dist'].plot(kind='density')\n",
    "bp['time_dist'].plot(kind='density')\n",
    "hr['time_dist'].plot(kind='density')\n",
    "pulse['time_dist'].plot(kind='density')\n",
    "maps['time_dist'].plot(kind='density')\n",
    "sp['time_dist'].plot(kind='density')\n",
    "resp['time_dist'].plot(kind='density')"
   ]
  },
  {
   "cell_type": "markdown",
   "id": "e47c0438",
   "metadata": {},
   "source": [
    "## Slide data & fill the missing value"
   ]
  },
  {
   "cell_type": "code",
   "execution_count": null,
   "id": "96d78d51",
   "metadata": {},
   "outputs": [],
   "source": [
    "reshaped['id_transform'] = reshaped.groupby(['encounter_id','patient_id']).ngroup()+1"
   ]
  },
  {
   "cell_type": "code",
   "execution_count": null,
   "id": "47da6d6e",
   "metadata": {},
   "outputs": [],
   "source": [
    "map_index = reshaped[['encounter_id','patient_id','id_transform']]\n",
    "map_index.to_csv('map_index.csv',index=False)"
   ]
  },
  {
   "cell_type": "code",
   "execution_count": null,
   "id": "2b131bdd",
   "metadata": {},
   "outputs": [],
   "source": [
    "# split by id\n",
    "split = reshaped"
   ]
  },
  {
   "cell_type": "code",
   "execution_count": null,
   "id": "63fe528b",
   "metadata": {},
   "outputs": [],
   "source": [
    "# fill the missing value by previous value, then fill the missing value by last value\n",
    "\n",
    "fill_missing = split.groupby(['encounter_id','patient_id']).ffill().bfill(axis='rows').reset_index().iloc[:,1:]"
   ]
  },
  {
   "cell_type": "code",
   "execution_count": null,
   "id": "3093d46c",
   "metadata": {},
   "outputs": [],
   "source": [
    "fill_missing['id_transform'].value_counts().sort_values().hist(bins=200)"
   ]
  },
  {
   "cell_type": "code",
   "execution_count": null,
   "id": "a7c46097",
   "metadata": {},
   "outputs": [],
   "source": [
    "no_duplicate = fill_missing.drop_duplicates(subset=['BP', 'Flow Delivered (L/min)', 'Heart Rate', 'Height',\n",
    "                                                    'MAP (mmHg)', 'Pulse', 'Resp', 'SpO2', 'Temp', 'Weight'])\n",
    "no_duplicate.shape"
   ]
  },
  {
   "cell_type": "code",
   "execution_count": null,
   "id": "85584e4b",
   "metadata": {},
   "outputs": [],
   "source": [
    "no_duplicate['recorded_time'] = pd.to_datetime(no_duplicate['recorded_time'])"
   ]
  },
  {
   "cell_type": "code",
   "execution_count": null,
   "id": "e37dfc09",
   "metadata": {},
   "outputs": [],
   "source": [
    "# \n",
    "df_2 = no_duplicate.copy()\n",
    "\n",
    "df_2['diff'] = df_2.groupby('id_transform')['recorded_time'].diff()"
   ]
  },
  {
   "cell_type": "code",
   "execution_count": null,
   "id": "26e016f2",
   "metadata": {},
   "outputs": [],
   "source": [
    "## Only keep the first value within 2-hour. Delete the duplicate while still capture the detail of the data.\n",
    "\n",
    "df_3 = df_2.groupby(['id_transform',df_2.recorded_time.dt.floor('2H')]).first()\n",
    "print(df_2.shape)\n",
    "print(df_2.groupby(['id_transform',df_2.recorded_time.dt.floor('2H')]).first().shape)"
   ]
  },
  {
   "cell_type": "code",
   "execution_count": null,
   "id": "8ea83ad5",
   "metadata": {},
   "outputs": [],
   "source": [
    "df_4 = df_3.reset_index(level=1, drop=True).reset_index()"
   ]
  },
  {
   "cell_type": "code",
   "execution_count": null,
   "id": "f6bfbf12",
   "metadata": {},
   "outputs": [],
   "source": [
    "df_4['id_transform'].value_counts().sort_values().hist(bins=200)"
   ]
  },
  {
   "cell_type": "code",
   "execution_count": null,
   "id": "ed0e2b40",
   "metadata": {},
   "outputs": [],
   "source": [
    "original_count = no_duplicate['id_transform'].value_counts().reset_index()\n",
    "filtered_count = df_4['id_transform'].value_counts().reset_index()"
   ]
  },
  {
   "cell_type": "code",
   "execution_count": null,
   "id": "a19ea491",
   "metadata": {},
   "outputs": [],
   "source": [
    "count_comparison = filtered_count.merge(original_count,on = 'index')"
   ]
  },
  {
   "cell_type": "code",
   "execution_count": null,
   "id": "e1e4b541",
   "metadata": {},
   "outputs": [],
   "source": [
    "count_comparison.columns = ['encounter_id','filtered_count', 'original_count']"
   ]
  },
  {
   "cell_type": "code",
   "execution_count": null,
   "id": "69717a3c",
   "metadata": {},
   "outputs": [],
   "source": [
    "count_comparison['dropped_ratio'] = round((count_comparison['original_count']-count_comparison['filtered_count'])\n",
    "                                          /count_comparison['original_count'], 2)"
   ]
  },
  {
   "cell_type": "code",
   "execution_count": null,
   "id": "38b181a7",
   "metadata": {},
   "outputs": [],
   "source": [
    "count_comparison.describe()"
   ]
  },
  {
   "cell_type": "markdown",
   "id": "dabe4148",
   "metadata": {},
   "source": [
    "## Slice the dataset by their encounter id."
   ]
  },
  {
   "cell_type": "markdown",
   "id": "691af20a",
   "metadata": {},
   "source": [
    "## prepare for fine-tune"
   ]
  },
  {
   "cell_type": "code",
   "execution_count": null,
   "id": "08bb87fe",
   "metadata": {},
   "outputs": [],
   "source": [
    "for i in range(1,1001):\n",
    "    encounter = df_4[df_4['id_transform']==i].drop(['id_transform','diff'],axis=1)\n",
    "    \n",
    "    if encounter.shape[0] <=10:\n",
    "       # encounter.insert(0,'Pos',[pos for pos in range(1,encounter.shape[0]+1)])\n",
    "        encounter.to_csv(f'dataset/{i}.csv',index=False)\n",
    "    else:\n",
    "        add_pos = encounter.tail(10)\n",
    "          #  pos = [i for i in range(1,len(encounter[50*(j-1):50*j])+1)]\n",
    "          #  add_pos.insert(0, 'Pos',pos)\n",
    "        add_pos.to_csv(f'dataset/{i}.csv',index=False)  "
   ]
  }
 ],
 "metadata": {
  "kernelspec": {
   "display_name": "Python 3 (ipykernel)",
   "language": "python",
   "name": "python3"
  },
  "language_info": {
   "codemirror_mode": {
    "name": "ipython",
    "version": 3
   },
   "file_extension": ".py",
   "mimetype": "text/x-python",
   "name": "python",
   "nbconvert_exporter": "python",
   "pygments_lexer": "ipython3",
   "version": "3.7.11"
  }
 },
 "nbformat": 4,
 "nbformat_minor": 5
}
